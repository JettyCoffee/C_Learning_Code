{
 "cells": [
  {
   "cell_type": "markdown",
   "id": "d5ebc2e8",
   "metadata": {},
   "source": [
    "## 第十周作业\n",
    "\n",
    "#### 提交人学号：10235501454\n",
    "#### 提交人姓名：陈子谦\n",
    "\n",
    "#### 作业题目：\n",
    "    阅读《概率论与数理统计教程》例4.3.1和例4.3.4，分别用随机投点法和平均值法计算下列两个定积分\n",
    "    并将其与精确值进行比较。\n",
    "    解答过程中要求：\n",
    "    (a) 积分结果保留六位小数；\n",
    "    (b) 在两种蒙特卡洛方法中，令 n 均为 自己的学号后三位加上 12345；并在解答过程中给出n的取值。例如，学号后三位为001，所使用的n为12346。"
   ]
  },
  {
   "cell_type": "code",
   "execution_count": 14,
   "id": "a553212d",
   "metadata": {},
   "outputs": [
    {
     "name": "stdout",
     "output_type": "stream",
     "text": [
      "J1 (蒙特卡洛方法): 0.418403\n",
      "J1 (平均值法): 0.418030\n",
      "J1 (精确值): 0.418023\n",
      "J2 (蒙特卡洛方法): 2.348817\n",
      "J2 (平均值法): 2.350460\n",
      "J2 (精确值): 2.350402\n",
      "N = 12799\n"
     ]
    }
   ],
   "source": [
    "import numpy as np\n",
    "from scipy.integrate import quad\n",
    "\n",
    "# 定义函数\n",
    "def f(x):\n",
    "    return (np.exp(x) - 1) / (np.exp(1) - 1)\n",
    "\n",
    "def g(x):\n",
    "    return np.exp(x)\n",
    "\n",
    "# 随机投点法\n",
    "def monte_carlo_integration(func, a, b, n):\n",
    "    points = np.random.uniform(a, b, n)\n",
    "    values = func(points)\n",
    "    return (b - a) * np.mean(values)\n",
    "\n",
    "# 平均值法\n",
    "def average_value_method(func, a, b, n):\n",
    "    points = np.linspace(a, b, n)\n",
    "    values = func(points)\n",
    "    return (b - a) * np.mean(values)\n",
    "\n",
    "# 精确积分计算\n",
    "def exact_integral(func, a, b):\n",
    "    result, _ = quad(func, a, b)\n",
    "    return result\n",
    "\n",
    "n = 454 + 12345\n",
    "\n",
    "# 计算积分\n",
    "J1_monte_carlo = monte_carlo_integration(f, 0, 1, n)\n",
    "J1_average_value = average_value_method(f, 0, 1, n)\n",
    "J1_exact = exact_integral(f, 0, 1)\n",
    "\n",
    "J2_monte_carlo = monte_carlo_integration(g, -1, 1, n)\n",
    "J2_average_value = average_value_method(g, -1, 1, n)\n",
    "J2_exact = exact_integral(g, -1, 1)\n",
    "\n",
    "# 打印结果\n",
    "print(f\"J1 (蒙特卡洛方法): {J1_monte_carlo:.6f}\")\n",
    "print(f\"J1 (平均值法): {J1_average_value:.6f}\")\n",
    "print(f\"J1 (精确值): {J1_exact:.6f}\")\n",
    "\n",
    "print(f\"J2 (蒙特卡洛方法): {J2_monte_carlo:.6f}\")\n",
    "print(f\"J2 (平均值法): {J2_average_value:.6f}\")\n",
    "print(f\"J2 (精确值): {J2_exact:.6f}\")\n",
    "\n",
    "print(f\"N = {n}\")\n"
   ]
  },
  {
   "cell_type": "markdown",
   "id": "d80730bb",
   "metadata": {},
   "source": [
    "##### 最后我们来验证猜想3：\n",
    "    代码使用随机投点法和平均值法来估算这两个积分，并与精确值进行比较。\n",
    "    这是一次代码的实验结果：\n",
    "        J1 (蒙特卡洛方法): 0.418403\n",
    "        J1 (平均值法): 0.418030\n",
    "        J1 (精确值): 0.418023\n",
    "        J2 (蒙特卡洛方法): 2.348817\n",
    "        J2 (平均值法): 2.350460\n",
    "        J2 (精确值): 2.350402\n",
    "        N = 12799"
   ]
  }
 ],
 "metadata": {
  "kernelspec": {
   "display_name": "Python 3 (ipykernel)",
   "language": "python",
   "name": "python3"
  },
  "language_info": {
   "codemirror_mode": {
    "name": "ipython",
    "version": 3
   },
   "file_extension": ".py",
   "mimetype": "text/x-python",
   "name": "python",
   "nbconvert_exporter": "python",
   "pygments_lexer": "ipython3",
   "version": "3.11.4"
  }
 },
 "nbformat": 4,
 "nbformat_minor": 5
}
