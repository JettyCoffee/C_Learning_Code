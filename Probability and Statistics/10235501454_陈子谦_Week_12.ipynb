{
 "cells": [
  {
   "cell_type": "markdown",
   "id": "d5ebc2e8",
   "metadata": {},
   "source": [
    "## 第十一周作业\n",
    "\n",
    "#### 提交人学号：10235501454\n",
    "#### 提交人姓名：陈子谦\n",
    "\n",
    "#### 作业题目：假设检验的模拟实验"
   ]
  },
  {
   "cell_type": "code",
   "execution_count": 5,
   "id": "0c1e68a7",
   "metadata": {},
   "outputs": [
    {
     "name": "stdout",
     "output_type": "stream",
     "text": [
      "493\n",
      "拒绝原假设的比例： 0.0493\n",
      "9507\n",
      "置信区间包含 0 的比例： 0.9507\n"
     ]
    }
   ],
   "source": [
    "import numpy as np\n",
    "from scipy.stats import norm\n",
    "\n",
    "# 设置参数\n",
    "n = 30  # 样本大小\n",
    "alpha = 0.05  # 显著性水平\n",
    "num_experiments = 10000  # 实验次数\n",
    "\n",
    "# 初始化计数器\n",
    "reject_H0_count = 0\n",
    "CI_contains_zero_count = 0\n",
    "\n",
    "# 进行实验\n",
    "for _ in range(num_experiments):\n",
    "    # 生成标准正态分布 N(0, 1) 的样本\n",
    "    sample = np.random.normal(0, 1, n)\n",
    "    \n",
    "    # 计算样本均值\n",
    "    sample_mean = np.mean(sample)\n",
    "    \n",
    "    # 计算检验统计量\n",
    "    test_statistic = sample_mean / (1 / np.sqrt(n))\n",
    "    \n",
    "    # 计算 p 值\n",
    "    p_value = 2 * (1 - norm.cdf(abs(test_statistic)))\n",
    "    \n",
    "    # 判断是否拒绝原假设\n",
    "    if p_value < alpha:\n",
    "        reject_H0_count += 1\n",
    "    \n",
    "    # 构建置信区间\n",
    "    CI_lower = sample_mean - norm.ppf(1 - alpha / 2) * (1 / np.sqrt(n)) # 1 - alpha / 2 分位数\n",
    "    CI_upper = sample_mean + norm.ppf(1 - alpha / 2) * (1 / np.sqrt(n))\n",
    "    \n",
    "    # 判断置信区间是否包含 0\n",
    "    if CI_lower <= 0 <= CI_upper:\n",
    "        CI_contains_zero_count += 1\n",
    "\n",
    "# 计算结果\n",
    "reject_H0_ratio = reject_H0_count / num_experiments\n",
    "CI_contains_zero_ratio = CI_contains_zero_count / num_experiments\n",
    "\n",
    "print(reject_H0_count)\n",
    "print(\"拒绝原假设的比例：\", reject_H0_ratio)\n",
    "\n",
    "print(CI_contains_zero_count)\n",
    "print(\"置信区间包含 0 的比例：\", CI_contains_zero_ratio)\n"
   ]
  },
  {
   "cell_type": "markdown",
   "id": "d80730bb",
   "metadata": {},
   "source": [
    "##### 原实验和附加题的分析：\n",
    "    假设检验部分\n",
    "        拒绝原假设的次数 m\n",
    "        计算得到的 m 表示在10000次实验中拒绝原假设的次数。\n",
    "        通过计算 m/10000 我们可以看到其值应该接近于显著性水平 α=0.05，因为在H0为真的情况下，错误地拒绝原假设的概率为 5%。\n",
    "    置信区间部分\n",
    "        包含0的区间个数 m \n",
    "        计算得到的 m 表示在10000个置信区间中包含 0 的区间个数。\n",
    "        通过计算 m′/10000 我们可以看到其值应该接近于置信水平 1−α=0.95，因为在 μ=0 的情况下，构建的置信区间应该有 95% 的概率包含真实值 0。\n",
    "##### 区间估计与假设检验的关系\n",
    "    假设检验：\n",
    "        假设检验用于检验关于总体参数的假设是否成立。通过计算检验统计量和 p 值，来判断是否拒绝原假设。\n",
    "    区间估计：\n",
    "        区间估计用于估计总体参数的范围。通过构建置信区间，去估计总体参数的一个可能取值范围，并且这个区间有一定的概率包含真实值。\n",
    "    关系：\n",
    "        当置信区间不包含假设值（例如 0），对应的假设检验往往会拒绝原假设。\n",
    "        反之，当置信区间包含假设值时，对应的假设检验往往不会拒绝原假设。\n",
    "    因此，假设检验和区间估计我认为在本质上是互补的，两者都用于推断总体参数，只是方法和侧重点不同。"
   ]
  }
 ],
 "metadata": {
  "kernelspec": {
   "display_name": "Python 3 (ipykernel)",
   "language": "python",
   "name": "python3"
  },
  "language_info": {
   "codemirror_mode": {
    "name": "ipython",
    "version": 3
   },
   "file_extension": ".py",
   "mimetype": "text/x-python",
   "name": "python",
   "nbconvert_exporter": "python",
   "pygments_lexer": "ipython3",
   "version": "3.11.4"
  }
 },
 "nbformat": 4,
 "nbformat_minor": 5
}
