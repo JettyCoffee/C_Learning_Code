{
 "cells": [
  {
   "cell_type": "markdown",
   "id": "d5ebc2e8",
   "metadata": {},
   "source": [
    "## 第一周作业\n",
    "\n",
    "#### 提交人学号：10235501454\n",
    "#### 提交人姓名：陈子谦\n",
    "\n",
    "#### 作业题目：\n",
    "在0到1之间随机抽取两个数，求随机事件“两数之差大于1/3”的概率，分别采用频率方法和几何方法确定该概率。\n",
    "\n",
    "#### 可参考的python代码"
   ]
  },
  {
   "cell_type": "code",
   "execution_count": 1,
   "id": "f95a8d73",
   "metadata": {},
   "outputs": [
    {
     "name": "stdout",
     "output_type": "stream",
     "text": [
      "频率方法得到的概率为: 0.44458\n"
     ]
    }
   ],
   "source": [
    "import random\n",
    "\n",
    "def frequency_method(n):\n",
    "    count = 0\n",
    "    for _ in range(n):\n",
    "        num1 = random.uniform(0, 1)\n",
    "        num2 = random.uniform(0, 1)\n",
    "        if abs(num1 - num2) > 1/3:\n",
    "            count += 1\n",
    "    pro = count / n\n",
    "    return pro\n",
    "\n",
    "n = 100000\n",
    "pro_frequency = frequency_method(n)\n",
    "print(\"频率方法得到的概率为:\", pro_frequency)"
   ]
  },
  {
   "cell_type": "markdown",
   "id": "53ece84a",
   "metadata": {},
   "source": [
    "## 解答：\n",
    "### 一、概率方法\n",
    "    由频率方法的定义可知，题目所求的概率应为在n次重复试验中事件A “两数之差大于1/3” 出现的频数除以实验的总次数，于是我们使用Python代码来实现这一设想。\n",
    "    首先代码中使用随机生成数random函数在(0,1)范围上随机生成两个数num1，num2。接着计算num1-num2的绝对值，若计算结果大于1/3，即满足事件A，就将计数器count的值增加1。\n",
    "    对上述过程循环100000次使结果误差降低到可接受的范围\n",
    "    最后将count除以实验次数(100000)即为频率方法所求出的概率：0.44212\n",
    "### 二、几何方法(示意图在下方给出，若未显示请打开压缩包内的sample.jpg图片文件)\n",
    "    由几何方法的定义可得，在直角坐标系下定义x为第一个随机数num1，y为第二个随机数num2。则当x∈(0,1) 且 y∈(0,1)时，其所围成的正方形区域为SΩ，事件A “两数之差大于1/3” 即为 |x-y|>1/3 \n",
    "     ∵|x-y|>1/3\n",
    "     => x-y>1/3 或 y-x>1/3\n",
    "     => 图中蓝色阴影部分即为SA\n",
    "     由几何方法求出的概率P = SA/SΩ = 4/9 ≈ 0.44\n",
    "### 总结:\n",
    "    最终我们可以发现几何方法所得概率为4/9，概率方法所得概率在0.4左右浮动，且当n取100000以上时稳定在0.44左右，故可得题目所求概率应约为0.44"
   ]
  },
  {
   "cell_type": "markdown",
   "id": "5e301591-36d5-4f63-843c-46478dd1a3f2",
   "metadata": {},
   "source": [
    "![sample](./sample.jpg)"
   ]
  }
 ],
 "metadata": {
  "kernelspec": {
   "display_name": "Python 3 (ipykernel)",
   "language": "python",
   "name": "python3"
  },
  "language_info": {
   "codemirror_mode": {
    "name": "ipython",
    "version": 3
   },
   "file_extension": ".py",
   "mimetype": "text/x-python",
   "name": "python",
   "nbconvert_exporter": "python",
   "pygments_lexer": "ipython3",
   "version": "3.11.4"
  }
 },
 "nbformat": 4,
 "nbformat_minor": 5
}
